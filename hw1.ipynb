{
 "cells": [
  {
   "cell_type": "code",
   "execution_count": 1,
   "id": "28a248e7-7a11-4d54-acde-4b39d2f4fc2b",
   "metadata": {},
   "outputs": [],
   "source": [
    "lovely_loveseat_description = \"\"\" Lovely loveseat. Tufted polyester blend on wood. 32 inches high x 40 inches wide x 30 inches deep. Red or white.\"\"\""
   ]
  },
  {
   "cell_type": "code",
   "execution_count": 3,
   "id": "103fbd76-549e-4d4b-af64-cc098f3d15ab",
   "metadata": {},
   "outputs": [],
   "source": [
    "lovely_loveseat_price = 254.00"
   ]
  },
  {
   "cell_type": "code",
   "execution_count": 4,
   "id": "08367b85-61f9-4a5b-862e-df22266aed2d",
   "metadata": {},
   "outputs": [],
   "source": [
    "stylish_settee_description = \"\"\"Stylish Settee. Faux leather on birch. 29.50 inches high x 54.75 inches x 28 inches deep. Black.\"\"\""
   ]
  },
  {
   "cell_type": "code",
   "execution_count": 5,
   "id": "8188978f-d640-4e13-8b3f-354f97c1ee4e",
   "metadata": {},
   "outputs": [],
   "source": [
    "stylish_settee_price = 180.50"
   ]
  },
  {
   "cell_type": "code",
   "execution_count": 6,
   "id": "0936ba29-be6d-41ad-a2ed-4792b8abdada",
   "metadata": {},
   "outputs": [],
   "source": [
    "luxurious_lamp_description = \"\"\"Luxurious Lamp. Glass and Iron. 36 inches tall. Brown with cream shade.\"\"\""
   ]
  },
  {
   "cell_type": "code",
   "execution_count": 7,
   "id": "11a3a033-b925-4588-8b43-b6b56f12553d",
   "metadata": {},
   "outputs": [],
   "source": [
    "luxurious_lamp_price = 52.15"
   ]
  },
  {
   "cell_type": "code",
   "execution_count": 8,
   "id": "83ab40b2-9276-440e-a183-849e4a756e10",
   "metadata": {},
   "outputs": [],
   "source": [
    "sales_tax = 0.088"
   ]
  },
  {
   "cell_type": "code",
   "execution_count": 9,
   "id": "b0dee89e-9f62-43ed-95e5-2e5dafba73aa",
   "metadata": {},
   "outputs": [],
   "source": [
    "customer_one_total = 0"
   ]
  },
  {
   "cell_type": "code",
   "execution_count": 10,
   "id": "a928369c-5d79-491b-8da3-72fd0f5a7d0d",
   "metadata": {},
   "outputs": [],
   "source": [
    "customer_one_itemization = \"\""
   ]
  },
  {
   "cell_type": "code",
   "execution_count": 11,
   "id": "13ec28fb-eff0-415c-812f-fae973c4f093",
   "metadata": {},
   "outputs": [],
   "source": [
    "customer_one_total += lovely_loveseat_price"
   ]
  },
  {
   "cell_type": "code",
   "execution_count": 12,
   "id": "9e4a1750-1ae3-416f-af99-3b1da8cc548a",
   "metadata": {},
   "outputs": [],
   "source": [
    "customer_one_itemization += lovely_loveseat_description"
   ]
  },
  {
   "cell_type": "code",
   "execution_count": 13,
   "id": "57175c34-77bf-455d-8b4d-5598a30b849f",
   "metadata": {},
   "outputs": [],
   "source": [
    "customer_one_total += luxurious_lamp_price"
   ]
  },
  {
   "cell_type": "code",
   "execution_count": 14,
   "id": "454628a0-4824-4d28-8811-5dedb3c432af",
   "metadata": {},
   "outputs": [],
   "source": [
    "customer_one_itemization += luxurious_lamp_description"
   ]
  },
  {
   "cell_type": "code",
   "execution_count": 15,
   "id": "92ec12bd-5953-473b-9f00-82915af87504",
   "metadata": {},
   "outputs": [],
   "source": [
    "customer_one_tax = customer_one_total * sales_tax"
   ]
  },
  {
   "cell_type": "code",
   "execution_count": 16,
   "id": "c12fb6fe-c27c-4da4-8922-d260a60bac20",
   "metadata": {},
   "outputs": [],
   "source": [
    "customer_one_total = customer_one_total + customer_one_tax"
   ]
  },
  {
   "cell_type": "code",
   "execution_count": 17,
   "id": "485f8e2f-ccd7-4b43-9065-88fa58055a12",
   "metadata": {},
   "outputs": [
    {
     "name": "stdout",
     "output_type": "stream",
     "text": [
      "Customer One Items: \n"
     ]
    }
   ],
   "source": [
    "print(\"Customer One Items: \")"
   ]
  },
  {
   "cell_type": "code",
   "execution_count": 18,
   "id": "fad4b3f0-3ca8-4273-bdfd-8782f97a6c03",
   "metadata": {},
   "outputs": [
    {
     "name": "stdout",
     "output_type": "stream",
     "text": [
      "Customer One Items:  Lovely loveseat. Tufted polyester blend on wood. 32 inches high x 40 inches wide x 30 inches deep. Red or white.Luxurious Lamp. Glass and Iron. 36 inches tall. Brown with cream shade.\n"
     ]
    }
   ],
   "source": [
    "print(\"Customer One Items: \" + str(customer_one_itemization))"
   ]
  },
  {
   "cell_type": "code",
   "execution_count": 19,
   "id": "0447a621-2c72-42b9-a58a-8a5ad1952207",
   "metadata": {},
   "outputs": [
    {
     "name": "stdout",
     "output_type": "stream",
     "text": [
      "Customer One Total: \n"
     ]
    }
   ],
   "source": [
    "print(\"Customer One Total: \")"
   ]
  },
  {
   "cell_type": "code",
   "execution_count": 20,
   "id": "08e96264-c591-4a87-a9d3-9e97f951e76e",
   "metadata": {},
   "outputs": [
    {
     "name": "stdout",
     "output_type": "stream",
     "text": [
      "Customer One Total: 333.09119999999996\n"
     ]
    }
   ],
   "source": [
    "print(\"Customer One Total: \" + str(customer_one_total))"
   ]
  },
  {
   "cell_type": "code",
   "execution_count": null,
   "id": "63c22146-81c2-4101-a4da-eff888f5cb77",
   "metadata": {},
   "outputs": [],
   "source": []
  }
 ],
 "metadata": {
  "kernelspec": {
   "display_name": "Python 3 (ipykernel)",
   "language": "python",
   "name": "python3"
  },
  "language_info": {
   "codemirror_mode": {
    "name": "ipython",
    "version": 3
   },
   "file_extension": ".py",
   "mimetype": "text/x-python",
   "name": "python",
   "nbconvert_exporter": "python",
   "pygments_lexer": "ipython3",
   "version": "3.9.12"
  }
 },
 "nbformat": 4,
 "nbformat_minor": 5
}
